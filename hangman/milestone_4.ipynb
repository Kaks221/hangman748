{
 "cells": [
  {
   "cell_type": "code",
   "execution_count": null,
   "metadata": {},
   "outputs": [],
   "source": [
    "import random\n",
    "\n",
    "class Hangman:\n",
    "    def __init__(self,word_list,num_lives=5):\n",
    "        self.word_list = word_list\n",
    "        self.num_lives = num_lives\n",
    "        self.word = random.choice(self.word_list)\n",
    "        self.word_guessed = ['_' for _ in self.word]\n",
    "        self.num_letters = len(set(self.word))\n",
    "        self.list_of_guesses = []\n",
    "\n",
    "    def check_guess(self, guess):\n",
    "        if guess in self.word:\n",
    "            print(f\"Good guess! {guess} is in {self.word}.\")\n",
    "            for i in range(len(self.word)):\n",
    "                if self.word[i] == guess:\n",
    "                    self.word_guessed[i] = guess\n",
    "            self.num_letters -= 1 \n",
    "        else: \n",
    "            self.num_lives -=1  \n",
    "            print (f\"Sorry, {guess} is not in {self.word}. You have {self.num_letters} lives left\")\n",
    "\n",
    "    def ask_for_input(self):\n",
    "        while True:\n",
    "            initial_guess = input(\"Enter a single letter:\")\n",
    "            guess = initial_guess.lower()\n",
    "            if len(guess) == 1 and guess.isalpha():\n",
    "                if guess in self.list_of_guesses:\n",
    "                    print(\"You already tried that letter!\")\n",
    "                else:\n",
    "                    self.list_of_guesses.append(guess)\n",
    "                    self.check_guess(guess)\n",
    "                break  \n",
    "            else: print(\"Invalid letter. Please, enter a single alphabetical character\")\n",
    "\n",
    "word_list = [\"grape\",\"apple\",\"mango\",\"banana\",\"pear\",\"strawberries\",\"peach\",\"guava\"]\n",
    "game_1 = Hangman(word_list)\n",
    "game_1.ask_for_input()"
   ]
  }
 ],
 "metadata": {
  "kernelspec": {
   "display_name": "base",
   "language": "python",
   "name": "python3"
  },
  "language_info": {
   "codemirror_mode": {
    "name": "ipython",
    "version": 3
   },
   "file_extension": ".py",
   "mimetype": "text/x-python",
   "name": "python",
   "nbconvert_exporter": "python",
   "pygments_lexer": "ipython3",
   "version": "3.11.5"
  }
 },
 "nbformat": 4,
 "nbformat_minor": 2
}
