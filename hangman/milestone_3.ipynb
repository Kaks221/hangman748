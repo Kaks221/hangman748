{
 "cells": [
  {
   "cell_type": "code",
   "execution_count": null,
   "metadata": {},
   "outputs": [],
   "source": [
    "while True:\n",
    "    guess = input(\"Enter a single letter:\")\n",
    "    if len(guess) == 1 and guess.isalpha():\n",
    "        print(\"Good guess\")\n",
    "        break  \n",
    "    else: print(\"Invalid letter. Please, enter a single alphabetical character\")"
   ]
  },
  {
   "cell_type": "code",
   "execution_count": null,
   "metadata": {},
   "outputs": [],
   "source": [
    "word = \"mango\"\n",
    "guess_initial = input(\"Enter a single letter:\")\n",
    "guess = guess_initial.lower()\n",
    "\n",
    "\n",
    "def check_guess(guess):\n",
    "    if guess in word:\n",
    "        print(f\"Good guess! {guess} is in {word}.\")\n",
    "    else: \n",
    "        print (f\"Sorry, {guess} is not in {word}. Try again.\")\n",
    "\n",
    "def ask_for_input():\n",
    "    while True:\n",
    "        if len(guess) == 1 and guess.isalpha():\n",
    "            check_guess(guess)\n",
    "            break  \n",
    "        else: print(\"Invalid letter. Please, enter a single alphabetical character\")\n",
    "    \n",
    "\n",
    "ask_for_input()"
   ]
  }
 ],
 "metadata": {
  "kernelspec": {
   "display_name": "base",
   "language": "python",
   "name": "python3"
  },
  "language_info": {
   "codemirror_mode": {
    "name": "ipython",
    "version": 3
   },
   "file_extension": ".py",
   "mimetype": "text/x-python",
   "name": "python",
   "nbconvert_exporter": "python",
   "pygments_lexer": "ipython3",
   "version": "3.11.5"
  }
 },
 "nbformat": 4,
 "nbformat_minor": 2
}
